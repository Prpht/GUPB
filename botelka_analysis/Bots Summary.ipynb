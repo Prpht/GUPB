{
 "cells": [
  {
   "cell_type": "code",
   "execution_count": 1,
   "metadata": {},
   "outputs": [
    {
     "name": "stdout",
     "output_type": "stream",
     "text": [
      "2079080\n"
     ]
    }
   ],
   "source": [
    "import json\n",
    "\n",
    "path = \"/Users/pkardas/Downloads/gupb__2020_10_13_00_20_45.json\"\n",
    "\n",
    "with open(path, 'r') as file:\n",
    "    data = [\n",
    "        json.loads(line)\n",
    "        for line in file.readlines()\n",
    "    ]\n",
    "\n",
    "print(len(data))"
   ]
  },
  {
   "cell_type": "code",
   "execution_count": 4,
   "metadata": {},
   "outputs": [],
   "source": [
    "controller_actions = [\n",
    "    log\n",
    "    for log in data\n",
    "    if log.get(\"value\") and log.get(\"value\").get(\"controller_name\") and log.get(\"value\").get(\"action_name\")\n",
    "]"
   ]
  },
  {
   "cell_type": "code",
   "execution_count": 5,
   "metadata": {},
   "outputs": [
    {
     "data": {
      "text/plain": [
       "921163"
      ]
     },
     "execution_count": 5,
     "metadata": {},
     "output_type": "execute_result"
    }
   ],
   "source": [
    "len(controller_actions)"
   ]
  },
  {
   "cell_type": "code",
   "execution_count": 7,
   "metadata": {},
   "outputs": [],
   "source": [
    "controller_names = {action.get(\"value\").get(\"controller_name\") for action in controller_actions}"
   ]
  },
  {
   "cell_type": "code",
   "execution_count": 8,
   "metadata": {},
   "outputs": [
    {
     "data": {
      "text/plain": [
       "{'BBBotControllerBartek',\n",
       " 'BotElkaZ nami na pewno zdasz',\n",
       " 'ClaretWolfController',\n",
       " 'IHaveNoIdeaWhatImDoingController',\n",
       " 'Krowa1233ControllerKrowka',\n",
       " 'TupTupBot'}"
      ]
     },
     "execution_count": 8,
     "metadata": {},
     "output_type": "execute_result"
    }
   ],
   "source": [
    "controller_names"
   ]
  },
  {
   "cell_type": "code",
   "execution_count": 9,
   "metadata": {},
   "outputs": [],
   "source": [
    "action_names = {action.get(\"value\").get(\"action_name\") for action in controller_actions}"
   ]
  },
  {
   "cell_type": "code",
   "execution_count": 10,
   "metadata": {},
   "outputs": [
    {
     "data": {
      "text/plain": [
       "{'ATTACK', 'DO_NOTHING', 'STEP_FORWARD', 'TURN_LEFT', 'TURN_RIGHT'}"
      ]
     },
     "execution_count": 10,
     "metadata": {},
     "output_type": "execute_result"
    }
   ],
   "source": [
    "action_names"
   ]
  },
  {
   "cell_type": "code",
   "execution_count": 11,
   "metadata": {},
   "outputs": [],
   "source": [
    "controllers_summary = {\n",
    "    controller_name: {\n",
    "        action_name: len(\n",
    "            [\n",
    "                action \n",
    "                for action in controller_actions\n",
    "                if action.get(\"value\").get(\"controller_name\") == controller_name and action.get(\"value\").get(\"action_name\") == action_name\n",
    "            ]\n",
    "        )\n",
    "        for action_name in action_names\n",
    "    } for controller_name in controller_names\n",
    "}"
   ]
  },
  {
   "cell_type": "code",
   "execution_count": 12,
   "metadata": {},
   "outputs": [
    {
     "data": {
      "text/plain": [
       "{'BBBotControllerBartek': {'TURN_LEFT': 0,\n",
       "  'STEP_FORWARD': 97888,\n",
       "  'DO_NOTHING': 6,\n",
       "  'ATTACK': 227,\n",
       "  'TURN_RIGHT': 51699},\n",
       " 'TupTupBot': {'TURN_LEFT': 34,\n",
       "  'STEP_FORWARD': 86,\n",
       "  'DO_NOTHING': 11,\n",
       "  'ATTACK': 0,\n",
       "  'TURN_RIGHT': 140552},\n",
       " 'IHaveNoIdeaWhatImDoingController': {'TURN_LEFT': 1354,\n",
       "  'STEP_FORWARD': 14313,\n",
       "  'DO_NOTHING': 0,\n",
       "  'ATTACK': 58825,\n",
       "  'TURN_RIGHT': 118077},\n",
       " 'Krowa1233ControllerKrowka': {'TURN_LEFT': 20544,\n",
       "  'STEP_FORWARD': 72312,\n",
       "  'DO_NOTHING': 0,\n",
       "  'ATTACK': 0,\n",
       "  'TURN_RIGHT': 20569},\n",
       " 'BotElkaZ nami na pewno zdasz': {'TURN_LEFT': 0,\n",
       "  'STEP_FORWARD': 32655,\n",
       "  'DO_NOTHING': 44,\n",
       "  'ATTACK': 859,\n",
       "  'TURN_RIGHT': 152499},\n",
       " 'ClaretWolfController': {'TURN_LEFT': 107171,\n",
       "  'STEP_FORWARD': 10512,\n",
       "  'DO_NOTHING': 0,\n",
       "  'ATTACK': 10448,\n",
       "  'TURN_RIGHT': 10478}}"
      ]
     },
     "execution_count": 12,
     "metadata": {},
     "output_type": "execute_result"
    }
   ],
   "source": [
    "controllers_summary"
   ]
  },
  {
   "cell_type": "code",
   "execution_count": 14,
   "metadata": {},
   "outputs": [
    {
     "data": {
      "text/html": [
       "<div>\n",
       "<style scoped>\n",
       "    .dataframe tbody tr th:only-of-type {\n",
       "        vertical-align: middle;\n",
       "    }\n",
       "\n",
       "    .dataframe tbody tr th {\n",
       "        vertical-align: top;\n",
       "    }\n",
       "\n",
       "    .dataframe thead th {\n",
       "        text-align: right;\n",
       "    }\n",
       "</style>\n",
       "<table border=\"1\" class=\"dataframe\">\n",
       "  <thead>\n",
       "    <tr style=\"text-align: right;\">\n",
       "      <th></th>\n",
       "      <th>BBBotControllerBartek</th>\n",
       "      <th>TupTupBot</th>\n",
       "      <th>IHaveNoIdeaWhatImDoingController</th>\n",
       "      <th>Krowa1233ControllerKrowka</th>\n",
       "      <th>BotElkaZ nami na pewno zdasz</th>\n",
       "      <th>ClaretWolfController</th>\n",
       "    </tr>\n",
       "  </thead>\n",
       "  <tbody>\n",
       "    <tr>\n",
       "      <th>TURN_LEFT</th>\n",
       "      <td>0</td>\n",
       "      <td>34</td>\n",
       "      <td>1354</td>\n",
       "      <td>20544</td>\n",
       "      <td>0</td>\n",
       "      <td>107171</td>\n",
       "    </tr>\n",
       "    <tr>\n",
       "      <th>STEP_FORWARD</th>\n",
       "      <td>97888</td>\n",
       "      <td>86</td>\n",
       "      <td>14313</td>\n",
       "      <td>72312</td>\n",
       "      <td>32655</td>\n",
       "      <td>10512</td>\n",
       "    </tr>\n",
       "    <tr>\n",
       "      <th>DO_NOTHING</th>\n",
       "      <td>6</td>\n",
       "      <td>11</td>\n",
       "      <td>0</td>\n",
       "      <td>0</td>\n",
       "      <td>44</td>\n",
       "      <td>0</td>\n",
       "    </tr>\n",
       "    <tr>\n",
       "      <th>ATTACK</th>\n",
       "      <td>227</td>\n",
       "      <td>0</td>\n",
       "      <td>58825</td>\n",
       "      <td>0</td>\n",
       "      <td>859</td>\n",
       "      <td>10448</td>\n",
       "    </tr>\n",
       "    <tr>\n",
       "      <th>TURN_RIGHT</th>\n",
       "      <td>51699</td>\n",
       "      <td>140552</td>\n",
       "      <td>118077</td>\n",
       "      <td>20569</td>\n",
       "      <td>152499</td>\n",
       "      <td>10478</td>\n",
       "    </tr>\n",
       "  </tbody>\n",
       "</table>\n",
       "</div>"
      ],
      "text/plain": [
       "              BBBotControllerBartek  TupTupBot  \\\n",
       "TURN_LEFT                         0         34   \n",
       "STEP_FORWARD                  97888         86   \n",
       "DO_NOTHING                        6         11   \n",
       "ATTACK                          227          0   \n",
       "TURN_RIGHT                    51699     140552   \n",
       "\n",
       "              IHaveNoIdeaWhatImDoingController  Krowa1233ControllerKrowka  \\\n",
       "TURN_LEFT                                 1354                      20544   \n",
       "STEP_FORWARD                             14313                      72312   \n",
       "DO_NOTHING                                   0                          0   \n",
       "ATTACK                                   58825                          0   \n",
       "TURN_RIGHT                              118077                      20569   \n",
       "\n",
       "              BotElkaZ nami na pewno zdasz  ClaretWolfController  \n",
       "TURN_LEFT                                0                107171  \n",
       "STEP_FORWARD                         32655                 10512  \n",
       "DO_NOTHING                              44                     0  \n",
       "ATTACK                                 859                 10448  \n",
       "TURN_RIGHT                          152499                 10478  "
      ]
     },
     "execution_count": 14,
     "metadata": {},
     "output_type": "execute_result"
    }
   ],
   "source": [
    "import pandas as pd\n",
    "\n",
    "table = pd.DataFrame(controllers_summary)\n",
    "\n",
    "table"
   ]
  },
  {
   "cell_type": "code",
   "execution_count": 18,
   "metadata": {},
   "outputs": [
    {
     "data": {
      "text/plain": [
       "<matplotlib.axes._subplots.AxesSubplot at 0x7f92d0066c40>"
      ]
     },
     "execution_count": 18,
     "metadata": {},
     "output_type": "execute_result"
    },
    {
     "data": {
      "image/png": "[encoded data removed]",
      "text/plain": [
       "<Figure size 1080x1080 with 1 Axes>"
      ]
     },
     "metadata": {
      "needs_background": "light"
     },
     "output_type": "display_data"
    }
   ],
   "source": [
    "table.plot.bar(rot=0, figsize=(15, 15))"
   ]
  },
  {
   "cell_type": "code",
   "execution_count": null,
   "metadata": {},
   "outputs": [],
   "source": []
  }
 ],
 "metadata": {
  "kernelspec": {
   "display_name": "Python 3",
   "language": "python",
   "name": "python3"
  },
  "language_info": {
   "codemirror_mode": {
    "name": "ipython",
    "version": 3
   },
   "file_extension": ".py",
   "mimetype": "text/x-python",
   "name": "python",
   "nbconvert_exporter": "python",
   "pygments_lexer": "ipython3",
   "version": "3.8.0"
  }
 },
 "nbformat": 4,
 "nbformat_minor": 4
}
