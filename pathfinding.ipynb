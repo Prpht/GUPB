{
 "cells": [
  {
   "cell_type": "code",
   "execution_count": 1,
   "metadata": {},
   "outputs": [],
   "source": [
    "import numpy as np\n",
    "import matplotlib.pyplot as plt\n",
    "from pathfinding.core.grid import Grid\n",
    "from pathfinding.finder.bi_a_star import BiAStarFinder\n",
    "from pathfinding.finder.dijkstra import DijkstraFinder\n",
    "from pathfinding.core.diagonal_movement import DiagonalMovement"
   ]
  },
  {
   "cell_type": "code",
   "execution_count": 30,
   "metadata": {},
   "outputs": [],
   "source": [
    "start = (11, 19)\n",
    "end = (17, 12)\n",
    "walkable =\"\"\"[[0 0 0 0 0 0 0 0 0 0 0 0 0 0 0 0 0 0 0 0 0 0]\n",
    "[0 0 0 0 0 0 1 1 1 1 1 1 1 1 1 1 1 1 1 0 0 0]\n",
    "[0 0 0 0 0 0 0 1 1 1 1 1 1 1 0 0 1 1 1 1 1 0]\n",
    "[0 0 0 0 0 0 0 0 1 1 1 1 1 1 1 0 1 1 1 1 1 0]\n",
    "[0 0 0 0 0 0 0 0 0 0 1 0 0 0 0 0 0 0 0 1 0 0]\n",
    "[0 0 0 0 0 0 1 1 1 1 1 1 1 0 1 1 1 1 1 1 0 0]\n",
    "[0 0 0 0 0 0 0 1 1 1 1 1 1 0 1 1 1 1 1 1 0 0]\n",
    "[0 0 0 0 0 0 0 1 1 1 1 1 1 0 1 1 1 1 1 1 0 0]\n",
    "[0 0 0 0 0 0 0 1 1 1 1 1 1 0 1 1 1 1 1 1 0 0]\n",
    "[0 0 0 0 1 1 0 1 1 1 1 1 1 1 1 1 1 1 1 1 0 0]\n",
    "[0 0 0 0 1 1 0 0 0 1 0 0 0 1 0 0 0 0 1 1 1 0]\n",
    "[0 0 0 0 1 1 1 1 1 1 1 1 1 1 1 1 1 1 1 9 0 0]\n",
    "[0 0 0 0 1 1 1 1 1 1 0 0 0 0 0 0 1 0 0 0 0 0]\n",
    "[0 0 0 0 1 1 1 1 1 1 1 1 0 1 1 1 1 1 1 1 1 0]\n",
    "[0 0 0 0 1 1 1 1 1 1 1 1 0 0 1 0 0 0 0 0 0 0]\n",
    "[0 1 1 1 1 1 1 1 1 1 1 1 0 0 0 0 0 1 1 1 1 0]\n",
    "[0 1 1 0 1 1 1 1 0 0 0 0 0 0 0 0 1 0 1 1 1 0]\n",
    "[0 1 1 0 0 0 0 0 0 1 1 1 6 1 1 1 1 1 1 0 1 0]\n",
    "[0 1 1 0 1 0 1 1 0 1 1 1 1 1 1 0 1 0 1 1 1 0]\n",
    "[0 1 1 0 1 0 1 1 0 0 1 0 0 0 0 0 0 1 1 1 0 0]\n",
    "[0 1 1 1 1 1 1 0 1 1 1 1 1 0 0 0 1 1 1 1 0 0]\n",
    "[0 0 0 0 0 0 0 0 0 0 0 0 0 0 0 0 0 0 0 0 0 0]]\"\"\"\n",
    "\n",
    "world = \"\"\"[[2  2  2  2  2  2  2  2  2  2  2  2  2  2  2  2  2  2  2  2  2  2]\n",
    "[2  3  3  2  2  2  1  1  1  1  1  1  1  1  1  1  1  1  1  2  2  2]\n",
    "[2  3  3  2  2  2  2  1  1  1  1  1  1  1  2  2  1  1  1  1  1  2]\n",
    "[2  3  3  3  3  3  2  2  1  1  1  1  1  1  1  2  1  1  1  1  1  2]\n",
    "[2  2  2  3  3  3  3  3  3  3  1  3  3  3  3  3  3  3  3  1  3  2]\n",
    "[2  2  2  3  3  3  1  1  1  1  1  1  1  3  1  1  1  1  1  1  3  2]\n",
    "[2  2  3  3  3  3  3  1  1  1  1  1  1  3  1  1  1  1  1  1  3  2]\n",
    "[2  2  3  3  3  3  3  1  1  1  1  1  1  3  1  1  1  1  1  1  3  2]\n",
    "[2  2  3  3  3  3  3  1  1  1  1  1  1  3  1  1  1  1  1  1  3  2]\n",
    "[2  2  2  3  1  1  3  1  1  1  1  1  1  1  1  1  1  1  1  1  3  2]\n",
    "[2  2  2  3  1  1  3  3  3  1  3  3  3  1  3  3  3  3  1  1  1  2]\n",
    "[2  2  2  3  1  1  1  1  1  1  1  1  1  1  1  1  1  1  1  1  3  2]\n",
    "[2  2  2  3  1  1  1  1  1  1  3  3  3  3  3  3  1  3  3  3  3  2]\n",
    "[2  2  2  3  1  1  1  1  1  1  1  1  3  1  1  1  1  1  1  1  1  2]\n",
    "[2  2  2  3  1  1  1  1  1  1  1  1  3  3  1  3  3  3  3  3  2  2]\n",
    "[2  1  1  1  1  1  1  1  1  1  1  1  3  3  3  3  2  1  1  1  1  2]\n",
    "[2  1  1  3  1  1  1  1  3  3 12  3  3  3  3  3  1  2  1  1  1  2]\n",
    "[2  1  1  3  3  3  3  3  3  1  1  1  5  1  1  1  1  1  1  3  1  2]\n",
    "[2  1  1  3  1  3  1  1 12  1  1  1  1  1  1  3  1  2  1  1  1  2]\n",
    "[2  1  1  3  1  3  1  1  3  3  1  3  3  3  3  3  2  1  1  1  2  2]\n",
    "[2  1  1  1  1  1  1  2  1  1  1  1  1  2  2  2  1  1  1  1  2  2]\n",
    "[2  2  2  2  2  2  2  2  2  2  2  2  2  2  2  2  2  2  2  2  2  2]]\"\"\""
   ]
  },
  {
   "cell_type": "code",
   "execution_count": 31,
   "metadata": {},
   "outputs": [],
   "source": [
    "walkable = walkable.replace(\" \", \",\").replace(\"\\n\", \",\")\n",
    "walkable_np = np.array(eval(walkable))\n",
    "walkable_np[start] = 1\n",
    "walkable_np[end] = 1\n",
    "walkable_np[start[0]+3, start[1]] = 3"
   ]
  },
  {
   "cell_type": "code",
   "execution_count": 32,
   "metadata": {},
   "outputs": [],
   "source": [
    "world = \",\".join(world.split())\n",
    "world_np = np.array(eval(world))"
   ]
  },
  {
   "cell_type": "code",
   "execution_count": 33,
   "metadata": {},
   "outputs": [],
   "source": [
    "grid = Grid(matrix=walkable_np)\n",
    "start = grid.node(start[1], start[0])\n",
    "end = grid.node(end[1], end[0])\n",
    "finder = BiAStarFinder(diagonal_movement=DiagonalMovement.never)\n",
    "path, _ = finder.find_path(start, end, grid)"
   ]
  },
  {
   "cell_type": "code",
   "execution_count": 34,
   "metadata": {},
   "outputs": [
    {
     "data": {
      "text/plain": [
       "[GridNode(x=19, y=11, walkable=True, weight=1, grid_id=None, connections=None),\n",
       " GridNode(x=18, y=11, walkable=True, weight=1, grid_id=None, connections=None),\n",
       " GridNode(x=17, y=11, walkable=True, weight=1, grid_id=None, connections=None),\n",
       " GridNode(x=16, y=11, walkable=True, weight=1, grid_id=None, connections=None),\n",
       " GridNode(x=16, y=12, walkable=True, weight=1, grid_id=None, connections=None),\n",
       " GridNode(x=16, y=13, walkable=True, weight=1, grid_id=None, connections=None),\n",
       " GridNode(x=17, y=13, walkable=True, weight=1, grid_id=None, connections=None),\n",
       " GridNode(x=18, y=13, walkable=True, weight=1, grid_id=None, connections=None),\n",
       " GridNode(x=19, y=13, walkable=True, weight=1, grid_id=None, connections=None),\n",
       " GridNode(x=19, y=14, walkable=True, weight=1, grid_id=None, connections=None),\n",
       " GridNode(x=19, y=15, walkable=True, weight=1, grid_id=None, connections=None),\n",
       " GridNode(x=18, y=15, walkable=True, weight=1, grid_id=None, connections=None),\n",
       " GridNode(x=18, y=16, walkable=True, weight=1, grid_id=None, connections=None),\n",
       " GridNode(x=18, y=17, walkable=True, weight=1, grid_id=None, connections=None),\n",
       " GridNode(x=17, y=17, walkable=True, weight=1, grid_id=None, connections=None),\n",
       " GridNode(x=16, y=17, walkable=True, weight=1, grid_id=None, connections=None),\n",
       " GridNode(x=15, y=17, walkable=True, weight=1, grid_id=None, connections=None),\n",
       " GridNode(x=14, y=17, walkable=True, weight=1, grid_id=None, connections=None),\n",
       " GridNode(x=13, y=17, walkable=True, weight=1, grid_id=None, connections=None),\n",
       " GridNode(x=12, y=17, walkable=True, weight=1, grid_id=None, connections=None)]"
      ]
     },
     "execution_count": 34,
     "metadata": {},
     "output_type": "execute_result"
    }
   ],
   "source": [
    "path"
   ]
  },
  {
   "cell_type": "code",
   "execution_count": null,
   "metadata": {},
   "outputs": [],
   "source": []
  }
 ],
 "metadata": {
  "kernelspec": {
   "display_name": "gupb-py311",
   "language": "python",
   "name": "python3"
  },
  "language_info": {
   "codemirror_mode": {
    "name": "ipython",
    "version": 3
   },
   "file_extension": ".py",
   "mimetype": "text/x-python",
   "name": "python",
   "nbconvert_exporter": "python",
   "pygments_lexer": "ipython3",
   "version": "3.11.5"
  }
 },
 "nbformat": 4,
 "nbformat_minor": 2
}
